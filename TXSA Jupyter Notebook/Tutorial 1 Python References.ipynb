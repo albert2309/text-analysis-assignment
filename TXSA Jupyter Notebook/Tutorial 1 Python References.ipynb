{
 "cells": [
  {
   "cell_type": "code",
   "execution_count": 1,
   "metadata": {},
   "outputs": [
    {
     "name": "stdout",
     "output_type": "stream",
     "text": [
      "Input your First name : albert\n",
      "Input your Last name : jonathan\n",
      "Hello jonathan albert\n"
     ]
    }
   ],
   "source": [
    "#input first name and last name\n",
    "fname = input(\"Input your First name : \")\n",
    "lname = input(\"Input your Last name : \")\n",
    "print(\"Hello \" + lname + \" \" + fname)"
   ]
  },
  {
   "cell_type": "code",
   "execution_count": 4,
   "metadata": {},
   "outputs": [
    {
     "name": "stdout",
     "output_type": "stream",
     "text": [
      "Enter first number: 5\n",
      "Enter second number: 8.8\n",
      " The sum of 5 and 8.8 is 13.8\n"
     ]
    }
   ],
   "source": [
    "#Add two float numbers\n",
    "num1 = input('Enter first number: ')\n",
    "num2 = input('Enter second number: ')\n",
    "\n",
    "#Add two numbers\n",
    "sum = float(num1) + float(num2)\n",
    "\n",
    "#Display the sum\n",
    "print(' The sum of {0} and {1} is {2}'.format(num1,num2,sum))"
   ]
  },
  {
   "cell_type": "code",
   "execution_count": 6,
   "metadata": {},
   "outputs": [
    {
     "name": "stdout",
     "output_type": "stream",
     "text": [
      "Input an integer : 4\n",
      "492\n"
     ]
    }
   ],
   "source": [
    "a = int(input(\"Input an integer : \"))\n",
    "n1 = int ( \"%s\" % a) \n",
    "n2 = int( \"%s%s\" % (a,a)) \n",
    "n3 = int( \"%s%s%s\" % (a,a,a) )\n",
    "print(n1+n2+n3) #a+aa+aaa"
   ]
  },
  {
   "cell_type": "code",
   "execution_count": 9,
   "metadata": {},
   "outputs": [
    {
     "name": "stdout",
     "output_type": "stream",
     "text": [
      "List is empty\n"
     ]
    }
   ],
   "source": [
    "#Checks if the list is not empty\n",
    "l = []\n",
    "if not l:\n",
    "    print(\"List is empty\")\n",
    "else:\n",
    "    print(\"List is not empty\")"
   ]
  },
  {
   "cell_type": "code",
   "execution_count": 11,
   "metadata": {},
   "outputs": [
    {
     "name": "stdout",
     "output_type": "stream",
     "text": [
      "Input your text: At vero eos et accusamus et iusto odio dignissimos ducimus qui blanditiis praesentium voluptatum deleniti atque corrupti quos dolores et quas molestias excepturi sint occaecati cupiditate non provident, similique sunt in culpa qui officia deserunt mollitia animi, id est laborum et dolorum fuga. Et harum quidem rerum facilis est et expedita distinctio. Nam libero tempore, cum soluta nobis est eligendi optio cumque nihil impedit quo minus id quod maxime placeat facere possimus, omnis voluptas assumenda est, omnis dolor repellendus. Temporibus autem quibusdam et aut officiis debitis aut rerum necessitatibus saepe eveniet ut et voluptates repudiandae sint et molestiae non recusandae. Itaque earum rerum hic tenetur a sapiente delectus, ut aut reiciendis voluptatibus maiores alias consequatur aut perferendis doloribus asperiores repellat\n",
      "Input the number of letter in words that you want to find: 4\n",
      "['accusamus', 'iusto', 'dignissimos', 'ducimus', 'blanditiis', 'praesentium', 'voluptatum', 'deleniti', 'atque', 'corrupti', 'dolores', 'molestias', 'excepturi', 'occaecati', 'cupiditate', 'provident,', 'similique', 'culpa', 'officia', 'deserunt', 'mollitia', 'animi,', 'laborum', 'dolorum', 'fuga.', 'harum', 'quidem', 'rerum', 'facilis', 'expedita', 'distinctio.', 'libero', 'tempore,', 'soluta', 'nobis', 'eligendi', 'optio', 'cumque', 'nihil', 'impedit', 'minus', 'maxime', 'placeat', 'facere', 'possimus,', 'omnis', 'voluptas', 'assumenda', 'omnis', 'dolor', 'repellendus.', 'Temporibus', 'autem', 'quibusdam', 'officiis', 'debitis', 'rerum', 'necessitatibus', 'saepe', 'eveniet', 'voluptates', 'repudiandae', 'molestiae', 'recusandae.', 'Itaque', 'earum', 'rerum', 'tenetur', 'sapiente', 'delectus,', 'reiciendis', 'voluptatibus', 'maiores', 'alias', 'consequatur', 'perferendis', 'doloribus', 'asperiores', 'repellat']\n"
     ]
    }
   ],
   "source": [
    "#Write a function to find the list of words that are longer than n from a given list of words\n",
    "def long_words(n,str):\n",
    "    word_len = []\n",
    "    txt = str.split(\" \")\n",
    "    \n",
    "    for x in txt:\n",
    "        if len(x) > n:\n",
    "            word_len.append(x)\n",
    "    return word_len\n",
    "\n",
    "text = input(\"Input your text: \")\n",
    "n = int(input(\"Input the number of letter in words that you want to find: \"))\n",
    "\n",
    "print(long_words(n,text))"
   ]
  },
  {
   "cell_type": "code",
   "execution_count": 12,
   "metadata": {},
   "outputs": [
    {
     "name": "stdout",
     "output_type": "stream",
     "text": [
      "Red Black\n"
     ]
    }
   ],
   "source": [
    "#Display first and last colours\n",
    "color_list = [\"Red\",\"Green\", \"White\", \"Black\"]\n",
    "\n",
    "print( \"%s %s\" %(color_list[0],color_list[-1]))"
   ]
  },
  {
   "cell_type": "code",
   "execution_count": 18,
   "metadata": {},
   "outputs": [
    {
     "name": "stdout",
     "output_type": "stream",
     "text": [
      "{40, 10, 80, 50, 20, 60, 30}\n"
     ]
    }
   ],
   "source": [
    "#Removes duplicae from a list\n",
    "a= [10,20,30,20,10,50,60,40,80,50,40]\n",
    "dup_items = set()\n",
    "uniq_items = []\n",
    "for x in a:\n",
    "    if x not in dup_items:\n",
    "        uniq_items.append(x)\n",
    "        dup_items.add(x)\n",
    "        \n",
    "print(dup_items)"
   ]
  },
  {
   "cell_type": "code",
   "execution_count": 19,
   "metadata": {},
   "outputs": [
    {
     "name": "stdout",
     "output_type": "stream",
     "text": [
      "True\n",
      "None\n"
     ]
    }
   ],
   "source": [
    "def common_data(list1,list2):\n",
    "    result = False\n",
    "    for x in list1:\n",
    "        for y in list2:\n",
    "            if x == y:\n",
    "                result = True\n",
    "                return result\n",
    "            \n",
    "print(common_data([1,2,3,4,5],[5,6,7,8,9]))\n",
    "print(common_data([1,2,3,4,5],[6,7,8,9]))"
   ]
  },
  {
   "cell_type": "code",
   "execution_count": 22,
   "metadata": {},
   "outputs": [
    {
     "name": "stdout",
     "output_type": "stream",
     "text": [
      "['Green', 'White', 'Black']\n",
      "White\n"
     ]
    }
   ],
   "source": [
    "color = ['Red','Green','White','Black', 'Pink', 'Yellow']\n",
    "color = [x for (i,x) in enumerate(color) if i not in (0,4,5)]\n",
    "print(color)\n",
    "newVariable = color[1]\n",
    "print(newVariable)"
   ]
  },
  {
   "cell_type": "code",
   "execution_count": null,
   "metadata": {},
   "outputs": [],
   "source": []
  },
  {
   "cell_type": "code",
   "execution_count": null,
   "metadata": {},
   "outputs": [],
   "source": []
  },
  {
   "cell_type": "code",
   "execution_count": null,
   "metadata": {},
   "outputs": [],
   "source": []
  },
  {
   "cell_type": "code",
   "execution_count": null,
   "metadata": {},
   "outputs": [],
   "source": []
  },
  {
   "cell_type": "code",
   "execution_count": null,
   "metadata": {},
   "outputs": [],
   "source": []
  },
  {
   "cell_type": "code",
   "execution_count": null,
   "metadata": {},
   "outputs": [],
   "source": []
  }
 ],
 "metadata": {
  "kernelspec": {
   "display_name": "Python 3",
   "language": "python",
   "name": "python3"
  },
  "language_info": {
   "codemirror_mode": {
    "name": "ipython",
    "version": 3
   },
   "file_extension": ".py",
   "mimetype": "text/x-python",
   "name": "python",
   "nbconvert_exporter": "python",
   "pygments_lexer": "ipython3",
   "version": "3.6.4"
  }
 },
 "nbformat": 4,
 "nbformat_minor": 2
}
