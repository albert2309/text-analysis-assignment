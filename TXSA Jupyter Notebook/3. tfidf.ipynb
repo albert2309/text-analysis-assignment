{
 "cells": [
  {
   "cell_type": "code",
   "execution_count": 1,
   "metadata": {
    "collapsed": true
   },
   "outputs": [],
   "source": [
    "import numpy as np"
   ]
  },
  {
   "cell_type": "code",
   "execution_count": 2,
   "metadata": {
    "collapsed": true
   },
   "outputs": [],
   "source": [
    "texts = ['i hate you','i love you','i really hate you','i like you']"
   ]
  },
  {
   "cell_type": "markdown",
   "metadata": {},
   "source": [
    "## \\\\( TF(i, 0) = {\\frac{1}{3}} \\\\), on the first document, 'i' got 1\n",
    "\n",
    "## \\\\( IDF(i) = {\\frac{4}{4}} \\\\), for the whole documents, 'i' existed in all 4 documents\n",
    "\n",
    "## \\\\( TF(i, 0) \\times IDF(i) = {\\frac{1}{3} \\times log(\\frac{4}{4})}  = {0}\\\\)"
   ]
  },
  {
   "cell_type": "code",
   "execution_count": 3,
   "metadata": {},
   "outputs": [
    {
     "data": {
      "text/plain": [
       "['love', 'like', 'i', 'you', 'hate', 'really']"
      ]
     },
     "execution_count": 3,
     "metadata": {},
     "output_type": "execute_result"
    }
   ],
   "source": [
    "vocabulary = list(set(' '.join(texts).split()))\n",
    "vocabulary"
   ]
  },
  {
   "cell_type": "code",
   "execution_count": 4,
   "metadata": {},
   "outputs": [
    {
     "name": "stderr",
     "output_type": "stream",
     "text": [
      "/Users/Ali/anaconda/lib/python2.7/site-packages/ipykernel/__main__.py:7: RuntimeWarning: divide by zero encountered in log\n"
     ]
    }
   ],
   "source": [
    "idf = {}\n",
    "for i in vocabulary:\n",
    "    idf[i] = 0\n",
    "    for k in texts:\n",
    "        if i in k.split():\n",
    "            idf[i] += 1\n",
    "    idf[i] = np.log(idf[i] / len(texts))"
   ]
  },
  {
   "cell_type": "code",
   "execution_count": 5,
   "metadata": {},
   "outputs": [
    {
     "data": {
      "text/plain": [
       "{'hate': -inf,\n",
       " 'i': 0.0,\n",
       " 'like': -inf,\n",
       " 'love': -inf,\n",
       " 'really': -inf,\n",
       " 'you': 0.0}"
      ]
     },
     "execution_count": 5,
     "metadata": {},
     "output_type": "execute_result"
    }
   ],
   "source": [
    "idf"
   ]
  },
  {
   "cell_type": "code",
   "execution_count": 6,
   "metadata": {
    "collapsed": true
   },
   "outputs": [],
   "source": [
    "X = np.zeros((len(texts),len(vocabulary)))\n",
    "for no, i in enumerate(texts):\n",
    "    for text in i.split():\n",
    "        X[no, vocabulary.index(text)] += 1\n",
    "    for text in i.split():\n",
    "        X[no, vocabulary.index(text)] = X[no, vocabulary.index(text)] * idf[text]"
   ]
  },
  {
   "cell_type": "code",
   "execution_count": 7,
   "metadata": {},
   "outputs": [
    {
     "data": {
      "text/plain": [
       "array([[  0.,   0.,   0.,   0., -inf,   0.],\n",
       "       [-inf,   0.,   0.,   0.,   0.,   0.],\n",
       "       [  0.,   0.,   0.,   0., -inf, -inf],\n",
       "       [  0., -inf,   0.,   0.,   0.,   0.]])"
      ]
     },
     "execution_count": 7,
     "metadata": {},
     "output_type": "execute_result"
    }
   ],
   "source": [
    "X"
   ]
  },
  {
   "cell_type": "code",
   "execution_count": null,
   "metadata": {
    "collapsed": true
   },
   "outputs": [],
   "source": []
  }
 ],
 "metadata": {
  "anaconda-cloud": {},
  "kernelspec": {
   "display_name": "Python 3",
   "language": "python",
   "name": "python3"
  },
  "language_info": {
   "codemirror_mode": {
    "name": "ipython",
    "version": 3
   },
   "file_extension": ".py",
   "mimetype": "text/x-python",
   "name": "python",
   "nbconvert_exporter": "python",
   "pygments_lexer": "ipython3",
   "version": "3.6.4"
  }
 },
 "nbformat": 4,
 "nbformat_minor": 2
}
