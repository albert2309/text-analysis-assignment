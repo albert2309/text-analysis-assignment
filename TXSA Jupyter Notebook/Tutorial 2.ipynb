{
 "cells": [
  {
   "cell_type": "code",
   "execution_count": 13,
   "metadata": {},
   "outputs": [
    {
     "name": "stdout",
     "output_type": "stream",
     "text": [
      "May I have your first name? albert\n",
      "May I have your last name? jonathan\n",
      "nahtanoj trebla\n"
     ]
    }
   ],
   "source": [
    "#Write a perogram to accept user's first and last name and print it in reverse order, with a space in between\n",
    "person = input(\"May I have your first name? \")\n",
    "person2 = input(\"May I have your last name? \")\n",
    "firstNameLength = len(person)\n",
    "secondNameLength= len(person2)\n",
    "emptyString = ''\n",
    "i = secondNameLength - 1\n",
    "while(i > -1):\n",
    "    emptyString = emptyString + person2[i]\n",
    "    i = i - 1\n",
    "i = firstNameLength - 1\n",
    "emptyString = emptyString + ' '\n",
    "while(i > -1):\n",
    "    emptyString = emptyString + person[i]\n",
    "    i = i - 1\n",
    "print(emptyString)"
   ]
  },
  {
   "cell_type": "code",
   "execution_count": 12,
   "metadata": {},
   "outputs": [
    {
     "name": "stdout",
     "output_type": "stream",
     "text": [
      "Write the radius for calculating area: 32.9\n",
      "3400.4913041721275\n"
     ]
    }
   ],
   "source": [
    "#Write a  programm to accept the radius of the circle and compute the area\n",
    "import math\n",
    "radius = float(input(\"Write the radius for calculating area: \"))\n",
    "print(radius * radius * math.pi)"
   ]
  },
  {
   "cell_type": "code",
   "execution_count": 2,
   "metadata": {},
   "outputs": [
    {
     "name": "stdout",
     "output_type": "stream",
     "text": [
      "Input the filename: w.exe\n",
      ".exe\n"
     ]
    }
   ],
   "source": [
    "#write a program toa ccept a full filename and print the extension of file\n",
    "import re\n",
    "fileName = input(\"Input the filename: \")\n",
    "regularFormula = re.compile('[.][a-z]+')\n",
    "result = regularFormula.findall(fileName)\n",
    "#you can use -1 immediately instead of using two conditions\n",
    "if(len(result) > 1):\n",
    "    print(result[len(result) - 1])\n",
    "else:\n",
    "    print(result[0])"
   ]
  },
  {
   "cell_type": "code",
   "execution_count": 39,
   "metadata": {},
   "outputs": [
    {
     "data": {
      "text/plain": [
       "[1, 2, 3, 5, 6, 7, 8, 'chelsea']"
      ]
     },
     "execution_count": 39,
     "metadata": {},
     "output_type": "execute_result"
    }
   ],
   "source": [
    "#write a python program to remove duplicates from a list\n",
    "t = [\"chelsea\", \"chelsea\", 3, 1, 2, 5, 6, 7, 8]\n",
    "list(set(t))"
   ]
  },
  {
   "cell_type": "code",
   "execution_count": 38,
   "metadata": {},
   "outputs": [
    {
     "name": "stdout",
     "output_type": "stream",
     "text": [
      "2018-06-21\n",
      "17:25\n"
     ]
    }
   ],
   "source": [
    "#Write a program to display the current date and time\n",
    "import datetime\n",
    "import time\n",
    "currentDate = datetime.date(int(time.strftime(\"%d/%m/%Y\")[6:10])\n",
    " ,int(time.strftime(\"%d/%m/%Y\")[3:5])\n",
    ",int(time.strftime(\"%d/%m/%Y\")[0:2]))\n",
    "#date in datetime format\n",
    "currentTime = time.strftime(\"%H:%M\")\n",
    "print(currentDate)\n",
    "print(currentTime)"
   ]
  },
  {
   "cell_type": "code",
   "execution_count": 4,
   "metadata": {},
   "outputs": [
    {
     "name": "stdout",
     "output_type": "stream",
     "text": [
      "done\n"
     ]
    }
   ],
   "source": [
    "import nltk\n",
    "import re\n",
    "\n",
    "from urllib.request import urlopen\n",
    "from nltk.tokenize import sent_tokenize, word_tokenize\n",
    "print('done')"
   ]
  },
  {
   "cell_type": "code",
   "execution_count": null,
   "metadata": {},
   "outputs": [],
   "source": []
  }
 ],
 "metadata": {
  "kernelspec": {
   "display_name": "Python 3",
   "language": "python",
   "name": "python3"
  },
  "language_info": {
   "codemirror_mode": {
    "name": "ipython",
    "version": 3
   },
   "file_extension": ".py",
   "mimetype": "text/x-python",
   "name": "python",
   "nbconvert_exporter": "python",
   "pygments_lexer": "ipython3",
   "version": "3.6.4"
  }
 },
 "nbformat": 4,
 "nbformat_minor": 2
}
